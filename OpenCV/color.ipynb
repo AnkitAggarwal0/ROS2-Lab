{
 "cells": [
  {
   "cell_type": "code",
   "execution_count": 38,
   "id": "7b6bbee5",
   "metadata": {
    "scrolled": true
   },
   "outputs": [
    {
     "name": "stdout",
     "output_type": "stream",
     "text": [
      "4.5.4-dev\n"
     ]
    }
   ],
   "source": [
    "import cv2\n",
    "print(cv2.__version__)"
   ]
  },
  {
   "cell_type": "code",
   "execution_count": 39,
   "id": "59e964f6",
   "metadata": {},
   "outputs": [],
   "source": [
    "import cv2\n",
    "import numpy as np\n"
   ]
  },
  {
   "cell_type": "code",
   "execution_count": 71,
   "id": "9a5d264f",
   "metadata": {},
   "outputs": [],
   "source": [
    "image=cv2.imread('C:/Users/MAHE/Documents/OpenCV_200929036/GS.png')\n",
    "cv2.imshow(\"image\", image)\n",
    "cv2.waitKey(0) \n",
    "cv2.destroyAllWindows()"
   ]
  },
  {
   "cell_type": "code",
   "execution_count": 72,
   "id": "85fd7e24",
   "metadata": {},
   "outputs": [
    {
     "name": "stdout",
     "output_type": "stream",
     "text": [
      "(406, 342)\n"
     ]
    }
   ],
   "source": [
    "scale_percent = 100\n",
    "width = int(image.shape[1] * scale_percent / 100)\n",
    "height = int(image.shape[0] * scale_percent / 100)\n",
    "dim = (width, height)\n",
    "print(dim) \n"
   ]
  },
  {
   "cell_type": "code",
   "execution_count": 73,
   "id": "2aca981d",
   "metadata": {},
   "outputs": [],
   "source": [
    "# resize image\n",
    "img = cv2.resize(image, dim, interpolation = cv2.INTER_AREA)\n",
    "cv2.imshow(\"image\", img)\n",
    "cv2.waitKey(0) \n",
    "cv2.destroyAllWindows()"
   ]
  },
  {
   "cell_type": "code",
   "execution_count": 74,
   "id": "72750b76",
   "metadata": {},
   "outputs": [],
   "source": [
    "def mouse(event,x,y,flags,param):\n",
    "    if event==cv2.EVENT_LBUTTONDOWN:\n",
    "        h=hsv[y,x,0]\n",
    "        s=hsv[y,x,1]\n",
    "        v=hsv[y,x,2]\n",
    "        print(\"H:\",h)\n",
    "        print(\"S:\",s)\n",
    "        print(\"V:\",v)\n"
   ]
  },
  {
   "cell_type": "code",
   "execution_count": 75,
   "id": "dd0e2b5c",
   "metadata": {},
   "outputs": [],
   "source": [
    "cv2.namedWindow('mouse')\n",
    "cv2.setMouseCallback('mouse',mouse)\n",
    "hsv=cv2.cvtColor(image,cv2.COLOR_BGR2HSV)\n",
    "cv2.imshow(\"mouse\", hsv)\n",
    "cv2.waitKey(0)\n",
    "cv2.destroyAllWindows()"
   ]
  },
  {
   "cell_type": "code",
   "execution_count": 76,
   "id": "76a20955",
   "metadata": {},
   "outputs": [],
   "source": [
    "blueLower=(100,180,245)\n",
    "blueUpper=(110,220,255)\n",
    "greenLower=(64,60,190)\n",
    "greenUpper=(74,70,210)\n",
    "whiteLower=(0,0,245)\n",
    "whiteUpper=(10,10,255)"
   ]
  },
  {
   "cell_type": "code",
   "execution_count": 77,
   "id": "ba100e6b",
   "metadata": {},
   "outputs": [],
   "source": [
    "refPt=[(width//2-25, height//2-25),(width//2+25, height//2+25)]\n",
    "roi = img[refPt[0][1]:refPt[1][1], refPt[0][0]:refPt[1][0]]\n",
    "cv2.imshow(\"ROI\", roi)\n",
    "cv2.waitKey(0)\n",
    "cv2.destroyAllWindows()\n"
   ]
  },
  {
   "cell_type": "code",
   "execution_count": 78,
   "id": "255e4954",
   "metadata": {},
   "outputs": [
    {
     "name": "stdout",
     "output_type": "stream",
     "text": [
      "[ 67.5156  68.3976 199.7436]\n"
     ]
    }
   ],
   "source": [
    "hsv=cv2.cvtColor(roi,cv2.COLOR_BGR2HSV)\n",
    "havg= np.average(hsv, axis=0)\n",
    "h_avg = np.average(havg, axis=0)\n",
    "print(h_avg)\n"
   ]
  },
  {
   "cell_type": "code",
   "execution_count": 79,
   "id": "402f4709",
   "metadata": {},
   "outputs": [
    {
     "name": "stdout",
     "output_type": "stream",
     "text": [
      "Color is Green\n"
     ]
    }
   ],
   "source": [
    "if (h_avg[0]>=np.array(blueLower[0])) and (h_avg[0]<=np.array(blueUpper[0])) and (h_avg[1]>=np.array(blueLower[1])) and (h_avg[1]<=np.array(blueUpper[1])) and (h_avg[2]>=np.array(blueLower[2])) and (h_avg[2]<=np.array(blueUpper[2])):\n",
    "    print(\"Color is Blue\")\n",
    "elif (h_avg[0]>=np.array(greenLower[0])) and (h_avg[0]<=np.array(greenUpper[0])) and (h_avg[1]>=np.array(greenLower[1])) and (h_avg[1]<=np.array(greenUpper[1])) and (h_avg[2]>=np.array(greenLower[2])) and (h_avg[2]<=np.array(greenUpper[2])):\n",
    "    print(\"Color is Green\")\n",
    "elif (h_avg[0]>=np.array(whiteLower[0])) and (h_avg[0]<=np.array(whiteUpper[0])) and (h_avg[1]>=np.array(whiteLower[1])) and (h_avg[1]<=np.array(whiteUpper[1])) and (h_avg[2]>=np.array(whiteLower[2])) and (h_avg[2]<=np.array(whiteUpper[2])):\n",
    "    print(\"Color is White\")    \n",
    "else:\n",
    "    print(\"Color is not Blue, Green or White.\")"
   ]
  },
  {
   "cell_type": "code",
   "execution_count": null,
   "id": "2454fbd2",
   "metadata": {},
   "outputs": [],
   "source": []
  }
 ],
 "metadata": {
  "kernelspec": {
   "display_name": "Python 3",
   "language": "python",
   "name": "python3"
  },
  "language_info": {
   "codemirror_mode": {
    "name": "ipython",
    "version": 3
   },
   "file_extension": ".py",
   "mimetype": "text/x-python",
   "name": "python",
   "nbconvert_exporter": "python",
   "pygments_lexer": "ipython3",
   "version": "3.8.8"
  }
 },
 "nbformat": 4,
 "nbformat_minor": 5
}
